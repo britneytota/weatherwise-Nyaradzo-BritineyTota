{
  "cells": [
    {
      "cell_type": "markdown",
      "id": "fa8c7f6c",
      "metadata": {
        "id": "fa8c7f6c"
      },
      "source": [
        "## 🧰 Setup and Imports\n",
        "\n",
        "This section imports commonly used packages and installs any additional tools used in the project.\n",
        "\n",
        "- You may not need all of these unless you're using specific features (e.g. visualisations, advanced prompting).\n",
        "- The notebook assumes the following packages are **pre-installed** in the provided environment or installable via pip:\n",
        "  - `requests`, `matplotlib`, `pyinputplus`\n",
        "  - `fetch-my-weather` (for accessing weather data easily)\n",
        "  - `hands-on-ai` (for AI logging, comparisons, or prompting tools)\n",
        "\n",
        "If you're running this notebook in **Google Colab**, uncomment the following lines to install the required packages.\n"
      ]
    },
    {
      "cell_type": "markdown",
      "id": "72e78a05",
      "metadata": {
        "id": "72e78a05"
      },
      "source": [
        "# 🌦️ WeatherWise – NyaradzoBritineyTota\n",
        "\n",
        "Welcome to your **WeatherWise** project notebook! This scaffold is designed to help you build your weather advisor app using Python, visualisations, and AI-enhanced development.\n",
        "\n",
        "---\n",
        "\n",
        "📄 **Full Assignment Specification**  \n",
        "See [`ASSIGNMENT.md`](ASSIGNMENT.md) or check the LMS for full details.\n",
        "\n",
        "📝 **Quick Refresher**  \n",
        "A one-page summary is available in [`resources/assignment-summary.md`](resources/assignment-summary.md).\n",
        "\n",
        "---\n",
        "\n",
        "🧠 **This Notebook Structure is Optional**  \n",
        "You’re encouraged to reorganise, rename sections, or remove scaffold cells if you prefer — as long as your final version meets the requirements.\n",
        "\n",
        "✅ You may delete this note before submission.\n",
        "\n"
      ]
    },
    {
      "cell_type": "code",
      "execution_count": null,
      "id": "70c3f3f1",
      "metadata": {
        "id": "70c3f3f1"
      },
      "outputs": [],
      "source": [
        "# %%\n",
        "# 🧪 Optional packages — uncomment if needed in Colab or JupyterHub\n",
        "!pip install fetch-my-weather\n",
        "!pip install hands-on-ai\n",
        "!pip install pyinputplus\n",
        "# %%"
      ]
    },
    {
      "cell_type": "code",
      "source": [
        "# Import packages after installation\n",
        "import os\n",
        "import requests # Import requests as it is used later in the notebook\n",
        "import pyinputplus as pyip # Import pyinputplus and alias it as pyip\n",
        "import matplotlib.pyplot as plt # Import matplotlib.pyplot and alias it as plt\n",
        "\n",
        "# Set environment variables\n",
        "os.environ['HANDS_ON_AI_SERVER'] = 'http://ollama.serveur.au'\n",
        "os.environ['HANDS_ON_AI_MODEL'] = 'granite3.2'\n",
        "# The API key input might need to be handled interactively or set another way\n",
        "# depending on the execution environment.\n",
        "# For now, keep it as is, but be aware it might pause execution.\n",
        "os.environ['HANDS_ON_AI_API_KEY'] = input('Enter your API key: ')"
      ],
      "metadata": {
        "id": "B2JKlJfrGgIb",
        "outputId": "2bf3c66c-1d32-49f5-95b3-3bebc2fcefea",
        "colab": {
          "base_uri": "https://localhost:8080/"
        }
      },
      "id": "B2JKlJfrGgIb",
      "execution_count": null,
      "outputs": [
        {
          "name": "stdout",
          "output_type": "stream",
          "text": [
            "Enter your API key: 2aa72b4fa5db4ed6b41181657252105\n"
          ]
        }
      ]
    },
    {
      "cell_type": "markdown",
      "id": "59ae7543",
      "metadata": {
        "id": "59ae7543"
      },
      "source": [
        "## 📦 Setup and Configuration\n",
        "Import required packages and setup environment."
      ]
    },
    {
      "cell_type": "code",
      "execution_count": null,
      "id": "f1dd051e",
      "metadata": {
        "id": "f1dd051e",
        "outputId": "f05ddad3-e092-468c-e24d-b9b8d4e6b415",
        "colab": {
          "base_uri": "https://localhost:8080/"
        }
      },
      "outputs": [
        {
          "output_type": "stream",
          "name": "stdout",
          "text": [
            "Requirement already satisfied: fetch-my-weather in /usr/local/lib/python3.11/dist-packages (0.4.0)\n",
            "Requirement already satisfied: requests>=2.25.0 in /usr/local/lib/python3.11/dist-packages (from fetch-my-weather) (2.32.3)\n",
            "Requirement already satisfied: pydantic>=1.8.0 in /usr/local/lib/python3.11/dist-packages (from fetch-my-weather) (2.11.4)\n",
            "Requirement already satisfied: annotated-types>=0.6.0 in /usr/local/lib/python3.11/dist-packages (from pydantic>=1.8.0->fetch-my-weather) (0.7.0)\n",
            "Requirement already satisfied: pydantic-core==2.33.2 in /usr/local/lib/python3.11/dist-packages (from pydantic>=1.8.0->fetch-my-weather) (2.33.2)\n",
            "Requirement already satisfied: typing-extensions>=4.12.2 in /usr/local/lib/python3.11/dist-packages (from pydantic>=1.8.0->fetch-my-weather) (4.13.2)\n",
            "Requirement already satisfied: typing-inspection>=0.4.0 in /usr/local/lib/python3.11/dist-packages (from pydantic>=1.8.0->fetch-my-weather) (0.4.0)\n",
            "Requirement already satisfied: charset-normalizer<4,>=2 in /usr/local/lib/python3.11/dist-packages (from requests>=2.25.0->fetch-my-weather) (3.4.2)\n",
            "Requirement already satisfied: idna<4,>=2.5 in /usr/local/lib/python3.11/dist-packages (from requests>=2.25.0->fetch-my-weather) (3.10)\n",
            "Requirement already satisfied: urllib3<3,>=1.21.1 in /usr/local/lib/python3.11/dist-packages (from requests>=2.25.0->fetch-my-weather) (2.4.0)\n",
            "Requirement already satisfied: certifi>=2017.4.17 in /usr/local/lib/python3.11/dist-packages (from requests>=2.25.0->fetch-my-weather) (2025.4.26)\n",
            "Requirement already satisfied: hands-on-ai in /usr/local/lib/python3.11/dist-packages (0.1.10)\n",
            "Requirement already satisfied: requests in /usr/local/lib/python3.11/dist-packages (from hands-on-ai) (2.32.3)\n",
            "Requirement already satisfied: typer in /usr/local/lib/python3.11/dist-packages (from hands-on-ai) (0.15.3)\n",
            "Requirement already satisfied: python-fasthtml in /usr/local/lib/python3.11/dist-packages (from hands-on-ai) (0.12.18)\n",
            "Requirement already satisfied: python-docx in /usr/local/lib/python3.11/dist-packages (from hands-on-ai) (1.1.2)\n",
            "Requirement already satisfied: pymupdf in /usr/local/lib/python3.11/dist-packages (from hands-on-ai) (1.25.5)\n",
            "Requirement already satisfied: scikit-learn in /usr/local/lib/python3.11/dist-packages (from hands-on-ai) (1.6.1)\n",
            "Requirement already satisfied: numpy in /usr/local/lib/python3.11/dist-packages (from hands-on-ai) (2.0.2)\n",
            "Requirement already satisfied: lxml>=3.1.0 in /usr/local/lib/python3.11/dist-packages (from python-docx->hands-on-ai) (5.4.0)\n",
            "Requirement already satisfied: typing-extensions>=4.9.0 in /usr/local/lib/python3.11/dist-packages (from python-docx->hands-on-ai) (4.13.2)\n",
            "Requirement already satisfied: fastcore>=1.8.1 in /usr/local/lib/python3.11/dist-packages (from python-fasthtml->hands-on-ai) (1.8.2)\n",
            "Requirement already satisfied: python-dateutil in /usr/local/lib/python3.11/dist-packages (from python-fasthtml->hands-on-ai) (2.9.0.post0)\n",
            "Requirement already satisfied: starlette>0.33 in /usr/local/lib/python3.11/dist-packages (from python-fasthtml->hands-on-ai) (0.46.2)\n",
            "Requirement already satisfied: oauthlib in /usr/local/lib/python3.11/dist-packages (from python-fasthtml->hands-on-ai) (3.2.2)\n",
            "Requirement already satisfied: itsdangerous in /usr/local/lib/python3.11/dist-packages (from python-fasthtml->hands-on-ai) (2.2.0)\n",
            "Requirement already satisfied: uvicorn>=0.30 in /usr/local/lib/python3.11/dist-packages (from uvicorn[standard]>=0.30->python-fasthtml->hands-on-ai) (0.34.2)\n",
            "Requirement already satisfied: httpx in /usr/local/lib/python3.11/dist-packages (from python-fasthtml->hands-on-ai) (0.28.1)\n",
            "Requirement already satisfied: fastlite>=0.1.1 in /usr/local/lib/python3.11/dist-packages (from python-fasthtml->hands-on-ai) (0.1.3)\n",
            "Requirement already satisfied: python-multipart in /usr/local/lib/python3.11/dist-packages (from python-fasthtml->hands-on-ai) (0.0.20)\n",
            "Requirement already satisfied: beautifulsoup4 in /usr/local/lib/python3.11/dist-packages (from python-fasthtml->hands-on-ai) (4.13.4)\n",
            "Requirement already satisfied: charset-normalizer<4,>=2 in /usr/local/lib/python3.11/dist-packages (from requests->hands-on-ai) (3.4.2)\n",
            "Requirement already satisfied: idna<4,>=2.5 in /usr/local/lib/python3.11/dist-packages (from requests->hands-on-ai) (3.10)\n",
            "Requirement already satisfied: urllib3<3,>=1.21.1 in /usr/local/lib/python3.11/dist-packages (from requests->hands-on-ai) (2.4.0)\n",
            "Requirement already satisfied: certifi>=2017.4.17 in /usr/local/lib/python3.11/dist-packages (from requests->hands-on-ai) (2025.4.26)\n",
            "Requirement already satisfied: scipy>=1.6.0 in /usr/local/lib/python3.11/dist-packages (from scikit-learn->hands-on-ai) (1.15.3)\n",
            "Requirement already satisfied: joblib>=1.2.0 in /usr/local/lib/python3.11/dist-packages (from scikit-learn->hands-on-ai) (1.5.0)\n",
            "Requirement already satisfied: threadpoolctl>=3.1.0 in /usr/local/lib/python3.11/dist-packages (from scikit-learn->hands-on-ai) (3.6.0)\n",
            "Requirement already satisfied: click>=8.0.0 in /usr/local/lib/python3.11/dist-packages (from typer->hands-on-ai) (8.2.0)\n",
            "Requirement already satisfied: shellingham>=1.3.0 in /usr/local/lib/python3.11/dist-packages (from typer->hands-on-ai) (1.5.4)\n",
            "Requirement already satisfied: rich>=10.11.0 in /usr/local/lib/python3.11/dist-packages (from typer->hands-on-ai) (13.9.4)\n",
            "Requirement already satisfied: packaging in /usr/local/lib/python3.11/dist-packages (from fastcore>=1.8.1->python-fasthtml->hands-on-ai) (24.2)\n",
            "Requirement already satisfied: apswutils>=0.0.2 in /usr/local/lib/python3.11/dist-packages (from fastlite>=0.1.1->python-fasthtml->hands-on-ai) (0.0.2)\n",
            "Requirement already satisfied: markdown-it-py>=2.2.0 in /usr/local/lib/python3.11/dist-packages (from rich>=10.11.0->typer->hands-on-ai) (3.0.0)\n",
            "Requirement already satisfied: pygments<3.0.0,>=2.13.0 in /usr/local/lib/python3.11/dist-packages (from rich>=10.11.0->typer->hands-on-ai) (2.19.1)\n",
            "Requirement already satisfied: anyio<5,>=3.6.2 in /usr/local/lib/python3.11/dist-packages (from starlette>0.33->python-fasthtml->hands-on-ai) (4.9.0)\n",
            "Requirement already satisfied: h11>=0.8 in /usr/local/lib/python3.11/dist-packages (from uvicorn>=0.30->uvicorn[standard]>=0.30->python-fasthtml->hands-on-ai) (0.16.0)\n",
            "Requirement already satisfied: httptools>=0.6.3 in /usr/local/lib/python3.11/dist-packages (from uvicorn[standard]>=0.30->python-fasthtml->hands-on-ai) (0.6.4)\n",
            "Requirement already satisfied: python-dotenv>=0.13 in /usr/local/lib/python3.11/dist-packages (from uvicorn[standard]>=0.30->python-fasthtml->hands-on-ai) (1.1.0)\n",
            "Requirement already satisfied: pyyaml>=5.1 in /usr/local/lib/python3.11/dist-packages (from uvicorn[standard]>=0.30->python-fasthtml->hands-on-ai) (6.0.2)\n",
            "Requirement already satisfied: uvloop!=0.15.0,!=0.15.1,>=0.14.0 in /usr/local/lib/python3.11/dist-packages (from uvicorn[standard]>=0.30->python-fasthtml->hands-on-ai) (0.21.0)\n",
            "Requirement already satisfied: watchfiles>=0.13 in /usr/local/lib/python3.11/dist-packages (from uvicorn[standard]>=0.30->python-fasthtml->hands-on-ai) (1.0.5)\n",
            "Requirement already satisfied: websockets>=10.4 in /usr/local/lib/python3.11/dist-packages (from uvicorn[standard]>=0.30->python-fasthtml->hands-on-ai) (15.0.1)\n",
            "Requirement already satisfied: soupsieve>1.2 in /usr/local/lib/python3.11/dist-packages (from beautifulsoup4->python-fasthtml->hands-on-ai) (2.7)\n",
            "Requirement already satisfied: httpcore==1.* in /usr/local/lib/python3.11/dist-packages (from httpx->python-fasthtml->hands-on-ai) (1.0.9)\n",
            "Requirement already satisfied: six>=1.5 in /usr/local/lib/python3.11/dist-packages (from python-dateutil->python-fasthtml->hands-on-ai) (1.17.0)\n",
            "Requirement already satisfied: sniffio>=1.1 in /usr/local/lib/python3.11/dist-packages (from anyio<5,>=3.6.2->starlette>0.33->python-fasthtml->hands-on-ai) (1.3.1)\n",
            "Requirement already satisfied: apsw in /usr/local/lib/python3.11/dist-packages (from apswutils>=0.0.2->fastlite>=0.1.1->python-fasthtml->hands-on-ai) (3.49.2.0)\n",
            "Requirement already satisfied: mdurl~=0.1 in /usr/local/lib/python3.11/dist-packages (from markdown-it-py>=2.2.0->rich>=10.11.0->typer->hands-on-ai) (0.1.2)\n",
            "Requirement already satisfied: pyinputplus in /usr/local/lib/python3.11/dist-packages (0.2.12)\n",
            "Requirement already satisfied: pysimplevalidate>=0.2.7 in /usr/local/lib/python3.11/dist-packages (from pyinputplus) (0.2.12)\n",
            "Requirement already satisfied: stdiomask>=0.0.3 in /usr/local/lib/python3.11/dist-packages (from pyinputplus) (0.0.6)\n"
          ]
        }
      ],
      "source": [
        "import requests\n",
        "# 🧪 Optional packages — uncomment if needed in Colab or JupyterHub\n",
        "!pip install fetch-my-weather\n",
        "!pip install hands-on-ai\n",
        "!pip install pyinputplus\n",
        "WEATHER_API_KEY = \"2aa72b4fa5db4ed6b41181657252105\"  # Replace with your actual API key\n",
        "BASE_WEATHER_URL = \"http://api.weatherapi.com/v1\"\n"
      ]
    },
    {
      "cell_type": "markdown",
      "id": "f736ade3",
      "metadata": {
        "id": "f736ade3"
      },
      "source": [
        "## 🌤️ Weather Data Functions"
      ]
    },
    {
      "cell_type": "code",
      "execution_count": null,
      "id": "7a2c7cd0",
      "metadata": {
        "id": "7a2c7cd0"
      },
      "outputs": [],
      "source": [
        "# Define get_weather_data() function here\n",
        "def get_weather_data(location, forecast_days=3):\n",
        "    endpoint = f\"{BASE_WEATHER_URL}/forecast.json\"\n",
        "    params = {\n",
        "        'key': WEATHER_API_KEY,\n",
        "        'q': location,\n",
        "        'days': forecast_days,\n",
        "        'aqi': 'no',\n",
        "        'alerts': 'no'\n",
        "    }\n",
        "    try:\n",
        "        response = requests.get(endpoint, params=params)\n",
        "        response.raise_for_status()\n",
        "        return response.json()\n",
        "    except requests.RequestException as e:\n",
        "        print(f\"Error fetching data for {location}: {e}\")\n",
        "        return None"
      ]
    },
    {
      "cell_type": "markdown",
      "id": "8a744fdc",
      "metadata": {
        "id": "8a744fdc"
      },
      "source": [
        "## 📊 Visualisation Functions"
      ]
    },
    {
      "cell_type": "code",
      "execution_count": null,
      "id": "9dc3bf85",
      "metadata": {
        "id": "9dc3bf85"
      },
      "outputs": [],
      "source": [
        "# Define create_temperature_visualisation() and create_precipitation_visualisation() here\n",
        "def create_temperature_visualisation(weather_data, output_type='display'):\n",
        "    if weather_data and 'forecast' in weather_data and 'forecastday' in weather_data['forecast']:\n",
        "        dates = [day['date'] for day in weather_data['forecast']['forecastday']]\n",
        "        temps = [day['day']['avgtemp_c'] for day in weather_data['forecast']['forecastday']]\n",
        "\n",
        "        plt.figure(figsize=(10, 5))\n",
        "        plt.plot(dates, temps, marker='o', linestyle='--', color='tomato', linewidth=2)\n",
        "        plt.title(f\"Average Temperature in {weather_data['location']['name']}\", fontsize=14)\n",
        "        plt.xlabel('Date')\n",
        "        plt.ylabel('Temperature (°C)')\n",
        "        plt.grid(True)\n",
        "        plt.xticks(rotation=45)\n",
        "        plt.tight_layout()\n",
        "        if output_type == 'display':\n",
        "            plt.show()\n",
        "        else:\n",
        "            return plt.gcf()\n",
        "    else:\n",
        "        print(\"Error: Could not extract temperature data.\")\n",
        "\n"
      ]
    },
    {
      "cell_type": "code",
      "source": [
        "\n",
        "def create_precipitation_visualisation(weather_data, output_type='display'):\n",
        "    if weather_data and 'forecast' in weather_data and 'forecastday' in weather_data['forecast']:\n",
        "        dates = [day['date'] for day in weather_data['forecast']['forecastday']]\n",
        "        precipitation = [day['day']['daily_chance_of_rain'] for day in weather_data['forecast']['forecastday']]\n",
        "\n",
        "        plt.figure(figsize=(10, 5))\n",
        "        plt.bar(dates, precipitation, color='skyblue')\n",
        "        plt.title(f\"Chance of Rain in {weather_data['location']['name']}\", fontsize=14)\n",
        "        plt.xlabel('Date')\n",
        "        plt.ylabel('Chance of Rain (%)')\n",
        "        plt.grid(axis='y')\n",
        "        plt.xticks(rotation=45)\n",
        "        plt.tight_layout()\n",
        "        if output_type == 'display':\n",
        "            plt.show()\n",
        "        else:\n",
        "            return plt.gcf()\n",
        "    else:\n",
        "        print(\"Error: Could not extract precipitation data.\")\n"
      ],
      "metadata": {
        "id": "HpOlQylYG5Ho"
      },
      "id": "HpOlQylYG5Ho",
      "execution_count": null,
      "outputs": []
    },
    {
      "cell_type": "markdown",
      "id": "9f95d160",
      "metadata": {
        "id": "9f95d160"
      },
      "source": [
        "## 🤖 Natural Language Processing"
      ]
    },
    {
      "cell_type": "code",
      "execution_count": null,
      "id": "bcc5833e",
      "metadata": {
        "id": "bcc5833e"
      },
      "outputs": [],
      "source": [
        "# Define parse_weather_question() and generate_weather_response() here\n",
        "def parse_weather_question(question):\n",
        "    question = question.lower()\n",
        "    parsed = {'location': None, 'attribute': None, 'time_period': 'today'}\n",
        "\n",
        "    if 'temperature' in question or 'temp' in question:\n",
        "        parsed['attribute'] = 'temperature'\n",
        "    elif 'rain' in question or 'precipitation' in question:\n",
        "        parsed['attribute'] = 'precipitation'\n",
        "\n",
        "    if 'tomorrow' in question:\n",
        "        parsed['time_period'] = 'tomorrow'\n",
        "    elif 'week' in question or '5 days' in question:\n",
        "        parsed['time_period'] = '5-day'\n",
        "\n",
        "    tokens = question.split()\n",
        "    for i in range(len(tokens)):\n",
        "        if tokens[i] in ['in', 'for', 'at'] and i + 1 < len(tokens):\n",
        "            parsed['location'] = ' '.join(tokens[i + 1:]).capitalize()\n",
        "            break\n",
        "        elif i == 0 and tokens[i].isalpha() and parsed['location'] is None:\n",
        "            parsed['location'] = tokens[i].capitalize()\n",
        "\n",
        "    return parsed\n",
        "\n",
        "def generate_weather_response(parsed_question, weather_data):\n",
        "    attribute = parsed_question['attribute']\n",
        "    time_period = parsed_question['time_period']\n",
        "    location = parsed_question['location']\n",
        "\n",
        "    if not weather_data:\n",
        "        return f\"Sorry, I couldn't retrieve the weather data for {location}.\"\n",
        "\n",
        "    forecast_days = weather_data.get('forecast', {}).get('forecastday', [])\n",
        "    if not forecast_days:\n",
        "        return \"No forecast data available.\"\n",
        "\n",
        "    if time_period == 'today':\n",
        "        if len(forecast_days) >= 1:\n",
        "            day_data = forecast_days[0]['day']\n",
        "            time_desc = \"today\"\n",
        "        else:\n",
        "            return \"No data for today.\"\n",
        "    elif time_period == 'tomorrow':\n",
        "        if len(forecast_days) >= 2:\n",
        "            day_data = forecast_days[1]['day']\n",
        "            time_desc = \"tomorrow\"\n",
        "        else:\n",
        "            return \"No data for tomorrow.\"\n",
        "    elif time_period == '5-day':\n",
        "        response = f\"Here is the 5-day forecast for {location}:\\n\"\n",
        "        for day in forecast_days:\n",
        "            date = day['date']\n",
        "            avg_temp = day['day'].get('avgtemp_c', 'N/A')\n",
        "            rain_chance = day['day'].get('daily_chance_of_rain', 'N/A')\n",
        "            response += f\"{date}: Avg Temp: {avg_temp}°C, Rain: {rain_chance}%\\n\"\n",
        "        return response\n",
        "    else:\n",
        "        return \"Time period not recognized.\"\n",
        "\n",
        "    if attribute == 'temperature':\n",
        "        return f\"The average temperature in {location} {time_desc} is {day_data.get('avgtemp_c', 'N/A')}°C.\"\n",
        "    elif attribute == 'precipitation':\n",
        "        return f\"There is a {day_data.get('daily_chance_of_rain', 'N/A')}% chance of rain in {location} {time_desc}.\"\n",
        "    else:\n",
        "        return \"I couldn't identify the weather detail you're asking for.\""
      ]
    },
    {
      "cell_type": "markdown",
      "id": "0d85225e",
      "metadata": {
        "id": "0d85225e"
      },
      "source": [
        "## 🧭 User Interface"
      ]
    },
    {
      "cell_type": "code",
      "execution_count": null,
      "id": "fa6cb0f6",
      "metadata": {
        "id": "fa6cb0f6"
      },
      "outputs": [],
      "source": [
        "# Define menu functions using pyinputplus or ipywidgets here\n",
        "def menu():\n",
        "    print(\"\\nWeather Advisor Menu\")\n",
        "    while True:\n",
        "        choice = pyip.inputMenu(['Ask a question', 'Show temperature chart', 'Show precipitation chart', 'Exit'], numbered=True)\n",
        "\n",
        "        if choice == 'Ask a question':\n",
        "            question = input(\"Ask your weather question (e.g., What's the temp in Paris tomorrow?): \")\n",
        "            parsed = parse_weather_question(question)\n",
        "            location = parsed['location']\n",
        "            if location:\n",
        "                data = get_weather_data(location)\n",
        "                response = generate_weather_response(parsed, data)\n",
        "                print(response)\n",
        "            else:\n",
        "                print(\"Please include a location in your question.\")\n",
        "\n",
        "        elif choice == 'Show temperature chart':\n",
        "            location = input(\"Enter a location: \")\n",
        "            data = get_weather_data(location)\n",
        "            if data:\n",
        "                create_temperature_visualisation(data)\n",
        "            else:\n",
        "                print(f\"Could not retrieve data for {location}.\")\n",
        "\n",
        "        elif choice == 'Show precipitation chart':\n",
        "            location = input(\"Enter a location: \")\n",
        "            data = get_weather_data(location)\n",
        "            if data:\n",
        "                create_precipitation_visualisation(data)\n",
        "            else:\n",
        "                print(f\"Could not retrieve data for {location}.\")\n",
        "\n",
        "        elif choice == 'Exit':\n",
        "            print(\"Goodbye!\")\n",
        "            break"
      ]
    },
    {
      "cell_type": "markdown",
      "id": "d643a53c",
      "metadata": {
        "id": "d643a53c"
      },
      "source": [
        "## 🧩 Main Application Logic"
      ]
    },
    {
      "cell_type": "code",
      "execution_count": null,
      "id": "a9e2e805",
      "metadata": {
        "id": "a9e2e805"
      },
      "outputs": [],
      "source": [
        "# Tie everything together here\n",
        "def main():\n",
        "    run_tests()\n",
        "    menu()"
      ]
    },
    {
      "cell_type": "markdown",
      "id": "fde44479",
      "metadata": {
        "id": "fde44479"
      },
      "source": [
        "## 🧪 Testing and Examples"
      ]
    },
    {
      "cell_type": "code",
      "execution_count": null,
      "id": "4e573901",
      "metadata": {
        "id": "4e573901",
        "outputId": "df8eda3c-f031-44c0-8365-87175003042a",
        "colab": {
          "base_uri": "https://localhost:8080/"
        }
      },
      "outputs": [
        {
          "output_type": "stream",
          "name": "stdout",
          "text": [
            "\n",
            "--- Running Tests ---\n",
            "All tests passed!\n",
            "\n",
            "Weather Advisor Menu\n",
            "Please select one of the following:\n",
            "1. Ask a question\n",
            "2. Show temperature chart\n",
            "3. Show precipitation chart\n",
            "4. Exit\n",
            "4\n",
            "Goodbye!\n"
          ]
        }
      ],
      "source": [
        "# Include sample input/output for each function\n",
        "def run_tests():\n",
        "    print(\"\\n--- Running Tests ---\")\n",
        "    sample_location = \"London\"\n",
        "    data = get_weather_data(sample_location)\n",
        "    assert data is not None, \"Failed to get weather data.\"\n",
        "    assert \"forecast\" in data, \"Missing 'forecast' in response.\"\n",
        "    assert \"forecastday\" in data[\"forecast\"], \"Missing 'forecastday' in forecast.\"\n",
        "    assert \"day\" in data[\"forecast\"][\"forecastday\"][0], \"Missing 'day' in forecastday.\"\n",
        "    print(\"All tests passed!\")\n",
        "\n",
        "# === Run the application ===\n",
        "if __name__ == \"__main__\":\n",
        "    main()"
      ]
    },
    {
      "cell_type": "markdown",
      "id": "d2885880",
      "metadata": {
        "id": "d2885880"
      },
      "source": [
        "## 🗂️ AI Prompting Log (Optional)\n",
        "Add markdown cells here summarising prompts used or link to AI conversations in the `ai-conversations/` folder."
      ]
    }
  ],
  "metadata": {
    "language_info": {
      "name": "python"
    },
    "colab": {
      "provenance": []
    },
    "kernelspec": {
      "name": "python3",
      "display_name": "Python 3"
    }
  },
  "nbformat": 4,
  "nbformat_minor": 5
}