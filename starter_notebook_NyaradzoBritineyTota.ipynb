{
  "cells": [
    {
      "cell_type": "markdown",
      "metadata": {
        "id": "view-in-github",
        "colab_type": "text"
      },
      "source": [
        "<a href=\"https://colab.research.google.com/github/britneytota/weatherwise-Nyaradzo-BritineyTota/blob/main/starter_notebook_NyaradzoBritineyTota.ipynb\" target=\"_parent\"><img src=\"https://colab.research.google.com/assets/colab-badge.svg\" alt=\"Open In Colab\"/></a>"
      ]
    },
    {
      "cell_type": "markdown",
      "id": "72e78a05",
      "metadata": {
        "id": "72e78a05"
      },
      "source": [
        "# 🌦️ WeatherWise – NyaradzoBritineyTota\n",
        "\n",
        "Welcome to your **WeatherWise** project notebook! This scaffold is designed to help you build your weather advisor app using Python, visualisations, and AI-enhanced development.\n",
        "\n",
        "---\n",
        "\n",
        "📄 **Full Assignment Specification**  \n",
        "See [`ASSIGNMENT.md`](ASSIGNMENT.md) or check the LMS for full details.\n",
        "\n",
        "📝 **Quick Refresher**  \n",
        "A one-page summary is available in [`resources/assignment-summary.md`](resources/assignment-summary.md).\n",
        "\n",
        "---\n",
        "\n",
        "🧠 **This Notebook Structure is Optional**  \n",
        "You’re encouraged to reorganise, rename sections, or remove scaffold cells if you prefer — as long as your final version meets the requirements.\n",
        "\n",
        "✅ You may delete this note before submission.\n",
        "\n"
      ]
    },
    {
      "cell_type": "markdown",
      "id": "fa8c7f6c",
      "metadata": {
        "id": "fa8c7f6c"
      },
      "source": [
        "## 🧰 Setup and Imports\n",
        "\n",
        "This section imports commonly used packages and installs any additional tools used in the project.\n",
        "\n",
        "- You may not need all of these unless you're using specific features (e.g. visualisations, advanced prompting).\n",
        "- The notebook assumes the following packages are **pre-installed** in the provided environment or installable via pip:\n",
        "  - `requests`, `matplotlib`, `pyinputplus`\n",
        "  - `fetch-my-weather` (for accessing weather data easily)\n",
        "  - `hands-on-ai` (for AI logging, comparisons, or prompting tools)\n",
        "\n",
        "If you're running this notebook in **Google Colab**, uncomment the following lines to install the required packages.\n"
      ]
    },
    {
      "cell_type": "code",
      "execution_count": null,
      "id": "70c3f3f1",
      "metadata": {
        "id": "70c3f3f1"
      },
      "outputs": [],
      "source": [
        "# %%\n",
        "# 🧪 Optional packages — uncomment if needed in Colab or JupyterHub\n",
        "!pip install fetch-my-weather\n",
        "!pip install hands-on-ai\n",
        "!pip install pyinputplus\n",
        "# %%"
      ]
    },
    {
      "cell_type": "code",
      "source": [
        "# Import packages after installation\n",
        "import os\n",
        "import requests # Import requests as it is used later in the notebook\n",
        "import pyinputplus as pyip # Import pyinputplus and alias it as pyip\n",
        "import matplotlib.pyplot as plt # Import matplotlib.pyplot and alias it as plt\n",
        "\n",
        "# Set environment variables\n",
        "os.environ['HANDS_ON_AI_SERVER'] = 'http://ollama.serveur.au'\n",
        "os.environ['HANDS_ON_AI_MODEL'] = 'granite3.2'\n",
        "# The API key input might need to be handled interactively or set another way\n",
        "# depending on the execution environment.\n",
        "# For now, keep it as is, but be aware it might pause execution.\n",
        "os.environ['HANDS_ON_AI_API_KEY'] = input('Enter your API key: ')"
      ],
      "metadata": {
        "id": "B2JKlJfrGgIb",
        "outputId": "2bf3c66c-1d32-49f5-95b3-3bebc2fcefea",
        "colab": {
          "base_uri": "https://localhost:8080/"
        }
      },
      "id": "B2JKlJfrGgIb",
      "execution_count": null,
      "outputs": [
        {
          "name": "stdout",
          "output_type": "stream",
          "text": [
            "Enter your API key: 2aa72b4fa5db4ed6b41181657252105\n"
          ]
        }
      ]
    },
    {
      "cell_type": "markdown",
      "id": "59ae7543",
      "metadata": {
        "id": "59ae7543"
      },
      "source": [
        "## 📦 Setup and Configuration\n",
        "Import required packages and setup environment."
      ]
    },
    {
      "cell_type": "code",
      "execution_count": null,
      "id": "f1dd051e",
      "metadata": {
        "id": "f1dd051e"
      },
      "outputs": [],
      "source": [
        "import requests\n",
        "# 🧪 Optional packages — uncomment if needed in Colab or JupyterHub\n",
        "!pip install fetch-my-weather\n",
        "!pip install hands-on-ai\n",
        "!pip install pyinputplus\n",
        "WEATHER_API_KEY = \"2aa72b4fa5db4ed6b41181657252105\"  # Replace with your actual API key\n",
        "BASE_WEATHER_URL = \"http://api.weatherapi.com/v1\"\n"
      ]
    },
    {
      "cell_type": "markdown",
      "id": "f736ade3",
      "metadata": {
        "id": "f736ade3"
      },
      "source": [
        "## 🌤️ Weather Data Functions"
      ]
    },
    {
      "cell_type": "code",
      "execution_count": null,
      "id": "7a2c7cd0",
      "metadata": {
        "id": "7a2c7cd0"
      },
      "outputs": [],
      "source": [
        "# Define get_weather_data() function here\n",
        "def get_weather_data(location, forecast_days=3):\n",
        "    endpoint = f\"{BASE_WEATHER_URL}/forecast.json\"\n",
        "    params = {\n",
        "        'key': WEATHER_API_KEY,\n",
        "        'q': location,\n",
        "        'days': forecast_days,\n",
        "        'aqi': 'no',\n",
        "        'alerts': 'no'\n",
        "    }\n",
        "    try:\n",
        "        response = requests.get(endpoint, params=params)\n",
        "        response.raise_for_status()\n",
        "        return response.json()\n",
        "    except requests.RequestException as e:\n",
        "        print(f\"Error fetching data for {location}: {e}\")\n",
        "        return None"
      ]
    },
    {
      "cell_type": "markdown",
      "id": "8a744fdc",
      "metadata": {
        "id": "8a744fdc"
      },
      "source": [
        "## 📊 Visualisation Functions"
      ]
    },
    {
      "cell_type": "code",
      "execution_count": null,
      "id": "9dc3bf85",
      "metadata": {
        "id": "9dc3bf85"
      },
      "outputs": [],
      "source": [
        "# Define create_temperature_visualisation() and create_precipitation_visualisation() here\n",
        "def create_temperature_visualisation(weather_data, output_type='display'):\n",
        "    if weather_data and 'forecast' in weather_data and 'forecastday' in weather_data['forecast']:\n",
        "        dates = [day['date'] for day in weather_data['forecast']['forecastday']]\n",
        "        temps = [day['day']['avgtemp_c'] for day in weather_data['forecast']['forecastday']]\n",
        "\n",
        "        plt.figure(figsize=(10, 5))\n",
        "        plt.plot(dates, temps, marker='o', linestyle='--', color='tomato', linewidth=2)\n",
        "        plt.title(f\"Average Temperature in {weather_data['location']['name']}\", fontsize=14)\n",
        "        plt.xlabel('Date')\n",
        "        plt.ylabel('Temperature (°C)')\n",
        "        plt.grid(True)\n",
        "        plt.xticks(rotation=45)\n",
        "        plt.tight_layout()\n",
        "        if output_type == 'display':\n",
        "            plt.show()\n",
        "        else:\n",
        "            return plt.gcf()\n",
        "    else:\n",
        "        print(\"Error: Could not extract temperature data.\")\n",
        "\n"
      ]
    },
    {
      "cell_type": "code",
      "source": [
        "\n",
        "def create_precipitation_visualisation(weather_data, output_type='display'):\n",
        "    if weather_data and 'forecast' in weather_data and 'forecastday' in weather_data['forecast']:\n",
        "        dates = [day['date'] for day in weather_data['forecast']['forecastday']]\n",
        "        precipitation = [day['day']['daily_chance_of_rain'] for day in weather_data['forecast']['forecastday']]\n",
        "\n",
        "        plt.figure(figsize=(10, 5))\n",
        "        plt.bar(dates, precipitation, color='skyblue')\n",
        "        plt.title(f\"Chance of Rain in {weather_data['location']['name']}\", fontsize=14)\n",
        "        plt.xlabel('Date')\n",
        "        plt.ylabel('Chance of Rain (%)')\n",
        "        plt.grid(axis='y')\n",
        "        plt.xticks(rotation=45)\n",
        "        plt.tight_layout()\n",
        "        if output_type == 'display':\n",
        "            plt.show()\n",
        "        else:\n",
        "            return plt.gcf()\n",
        "    else:\n",
        "        print(\"Error: Could not extract precipitation data.\")\n"
      ],
      "metadata": {
        "id": "HpOlQylYG5Ho"
      },
      "id": "HpOlQylYG5Ho",
      "execution_count": null,
      "outputs": []
    },
    {
      "cell_type": "markdown",
      "id": "9f95d160",
      "metadata": {
        "id": "9f95d160"
      },
      "source": [
        "## 🤖 Natural Language Processing"
      ]
    },
    {
      "cell_type": "code",
      "execution_count": null,
      "id": "bcc5833e",
      "metadata": {
        "id": "bcc5833e"
      },
      "outputs": [],
      "source": [
        "# Define parse_weather_question() and generate_weather_response() here\n",
        "def parse_weather_question(question):\n",
        "    question = question.lower()\n",
        "    parsed = {'location': None, 'attribute': None, 'time_period': 'today'}\n",
        "\n",
        "    if 'temperature' in question or 'temp' in question:\n",
        "        parsed['attribute'] = 'temperature'\n",
        "    elif 'rain' in question or 'precipitation' in question:\n",
        "        parsed['attribute'] = 'precipitation'\n",
        "\n",
        "    if 'tomorrow' in question:\n",
        "        parsed['time_period'] = 'tomorrow'\n",
        "    elif 'week' in question or '5 days' in question:\n",
        "        parsed['time_period'] = '5-day'\n",
        "\n",
        "    tokens = question.split()\n",
        "    for i in range(len(tokens)):\n",
        "        if tokens[i] in ['in', 'for', 'at'] and i + 1 < len(tokens):\n",
        "            parsed['location'] = ' '.join(tokens[i + 1:]).capitalize()\n",
        "            break\n",
        "        elif i == 0 and tokens[i].isalpha() and parsed['location'] is None:\n",
        "            parsed['location'] = tokens[i].capitalize()\n",
        "\n",
        "    return parsed\n",
        "\n",
        "def generate_weather_response(parsed_question, weather_data):\n",
        "    attribute = parsed_question['attribute']\n",
        "    time_period = parsed_question['time_period']\n",
        "    location = parsed_question['location']\n",
        "\n",
        "    if not weather_data:\n",
        "        return f\"Sorry, I couldn't retrieve the weather data for {location}.\"\n",
        "\n",
        "    forecast_days = weather_data.get('forecast', {}).get('forecastday', [])\n",
        "    if not forecast_days:\n",
        "        return \"No forecast data available.\"\n",
        "\n",
        "    if time_period == 'today':\n",
        "        if len(forecast_days) >= 1:\n",
        "            day_data = forecast_days[0]['day']\n",
        "            time_desc = \"today\"\n",
        "        else:\n",
        "            return \"No data for today.\"\n",
        "    elif time_period == 'tomorrow':\n",
        "        if len(forecast_days) >= 2:\n",
        "            day_data = forecast_days[1]['day']\n",
        "            time_desc = \"tomorrow\"\n",
        "        else:\n",
        "            return \"No data for tomorrow.\"\n",
        "    elif time_period == '5-day':\n",
        "        response = f\"Here is the 5-day forecast for {location}:\\n\"\n",
        "        for day in forecast_days:\n",
        "            date = day['date']\n",
        "            avg_temp = day['day'].get('avgtemp_c', 'N/A')\n",
        "            rain_chance = day['day'].get('daily_chance_of_rain', 'N/A')\n",
        "            response += f\"{date}: Avg Temp: {avg_temp}°C, Rain: {rain_chance}%\\n\"\n",
        "        return response\n",
        "    else:\n",
        "        return \"Time period not recognized.\"\n",
        "\n",
        "    if attribute == 'temperature':\n",
        "        return f\"The average temperature in {location} {time_desc} is {day_data.get('avgtemp_c', 'N/A')}°C.\"\n",
        "    elif attribute == 'precipitation':\n",
        "        return f\"There is a {day_data.get('daily_chance_of_rain', 'N/A')}% chance of rain in {location} {time_desc}.\"\n",
        "    else:\n",
        "        return \"I couldn't identify the weather detail you're asking for.\"\n",
        "\n",
        "# Define the menu function outside of generate_weather_response\n",
        "def main_menu():\n",
        "    print(\"=== Welcome to Weather Advisor ===\")\n",
        "    last_location = None\n",
        "\n",
        "    while True:\n",
        "        print(\"\\nWeather Advisor Menu\")\n",
        "        print(\"Please select one of the following:\")\n",
        "        choice = pyip.inputMenu(\n",
        "            ['Ask a question', 'Show temperature chart', 'Show precipitation chart', 'Exit'],\n",
        "            numbered=True\n",
        "        )\n",
        "\n",
        "        if choice == 'Ask a question':\n",
        "            question = input(\"What would you like to know about the weather?\\n> \")\n",
        "            parsed = parse_weather_question(question)\n",
        "            data = get_weather_data(parsed['location'])\n",
        "            response = generate_weather_response(parsed, data)\n",
        "            print(\"\\n\" + response + \"\\n\")\n",
        "            last_location = parsed['location']\n",
        "\n",
        "        elif choice in ['Show temperature chart', 'Show precipitation chart']:\n",
        "            if last_location:\n",
        "                use_last = pyip.inputYesNo(f\"Use last location ({last_location})? (yes/no): \")\n",
        "                if use_last == 'yes':\n",
        "                    location = last_location\n",
        "                else:\n",
        "                    location = pyip.inputStr(\"Enter a location: \")\n",
        "                    last_location = location\n",
        "            else:\n",
        "                location = pyip.inputStr(\"Enter a location: \")\n",
        "                last_location = location\n",
        "\n",
        "            data = get_weather_data(location)\n",
        "            if data:\n",
        "                if choice == 'Show temperature chart':\n",
        "                    create_temperature_visualisation(data)\n",
        "                else:\n",
        "                    create_precipitation_visualisation(data)\n",
        "\n",
        "        elif choice == 'Exit':\n",
        "            print(\"Goodbye!\")\n",
        "            break"
      ]
    },
    {
      "cell_type": "markdown",
      "id": "0d85225e",
      "metadata": {
        "id": "0d85225e"
      },
      "source": [
        "## 🧭 User Interface"
      ]
    },
    {
      "cell_type": "code",
      "execution_count": null,
      "id": "fa6cb0f6",
      "metadata": {
        "id": "fa6cb0f6"
      },
      "outputs": [],
      "source": [
        "# Define menu functions using pyinputplus or ipywidgets here\n",
        "def menu():\n",
        "    print(\"\\nWeather Advisor Menu\")\n",
        "    while True:\n",
        "        choice = pyip.inputMenu(['Ask a question', 'Show temperature chart', 'Show precipitation chart', 'Exit'], numbered=True)\n",
        "\n",
        "        if choice == 'Ask a question':\n",
        "            question = input(\"Ask your weather question (e.g., What's the temp in Paris tomorrow?): \")\n",
        "            parsed = parse_weather_question(question)\n",
        "            location = parsed['location']\n",
        "            if location:\n",
        "                data = get_weather_data(location)\n",
        "                response = generate_weather_response(parsed, data)\n",
        "                print(response)\n",
        "            else:\n",
        "                print(\"Please include a location in your question.\")\n",
        "\n",
        "        elif choice == 'Show temperature chart':\n",
        "            location = input(\"Enter a location: \")\n",
        "            data = get_weather_data(location)\n",
        "            if data:\n",
        "                create_temperature_visualisation(data)\n",
        "            else:\n",
        "                print(f\"Could not retrieve data for {location}.\")\n",
        "\n",
        "        elif choice == 'Show precipitation chart':\n",
        "            location = input(\"Enter a location: \")\n",
        "            data = get_weather_data(location)\n",
        "            if data:\n",
        "                create_precipitation_visualisation(data)\n",
        "            else:\n",
        "                print(f\"Could not retrieve data for {location}.\")\n",
        "\n",
        "        elif choice == 'Exit':\n",
        "            print(\"Goodbye!\")\n",
        "            break"
      ]
    },
    {
      "cell_type": "markdown",
      "id": "d643a53c",
      "metadata": {
        "id": "d643a53c"
      },
      "source": [
        "## 🧩 Main Application Logic"
      ]
    },
    {
      "cell_type": "code",
      "execution_count": null,
      "id": "a9e2e805",
      "metadata": {
        "id": "a9e2e805"
      },
      "outputs": [],
      "source": [
        "# %%\n",
        "# 🧪 Optional packages — uncomment if needed in Colab or JupyterHub\n",
        "!pip install fetch-my-weather\n",
        "!pip install hands-on-ai\n",
        "!pip install pyinputplus\n",
        "# %%\n",
        "# Import packages after installation\n",
        "import os\n",
        "import requests # Import requests as it is used later in the notebook\n",
        "import pyinputplus as pyip # Import pyinputplus and alias it as pyip\n",
        "import matplotlib.pyplot as plt # Import matplotlib.pyplot and alias it as plt\n",
        "\n",
        "# Set environment variables\n",
        "os.environ['HANDS_ON_AI_SERVER'] = 'http://ollama.serveur.au'\n",
        "os.environ['HANDS_ON_AI_MODEL'] = 'granite3.2'\n",
        "# The API key input might need to be handled interactively or set another way\n",
        "# depending on the execution environment.\n",
        "# For now, keep it as is, but be aware it might pause execution.\n",
        "os.environ['HANDS_ON_AI_API_KEY'] = input('Enter your API key: ')\n",
        "import requests\n",
        "# 🧪 Optional packages — uncomment if needed in Colab or JupyterHub\n",
        "!pip install fetch-my-weather\n",
        "!pip install hands-on-ai\n",
        "!pip install pyinputplus\n",
        "WEATHER_API_KEY = \"2aa72b4fa5db4ed6b41181657252105\"  # Replace with your actual API key\n",
        "BASE_WEATHER_URL = \"http://api.weatherapi.com/v1\"\n",
        "# Define get_weather_data() function here\n",
        "def get_weather_data(location, forecast_days=3):\n",
        "    endpoint = f\"{BASE_WEATHER_URL}/forecast.json\"\n",
        "    params = {\n",
        "        'key': WEATHER_API_KEY,\n",
        "        'q': location,\n",
        "        'days': forecast_days,\n",
        "        'aqi': 'no',\n",
        "        'alerts': 'no'\n",
        "    }\n",
        "    try:\n",
        "        response = requests.get(endpoint, params=params)\n",
        "        response.raise_for_status()\n",
        "        return response.json()\n",
        "    except requests.RequestException as e:\n",
        "        print(f\"Error fetching data for {location}: {e}\")\n",
        "        return None\n",
        "# Define create_temperature_visualisation() and create_precipitation_visualisation() here\n",
        "def create_temperature_visualisation(weather_data, output_type='display'):\n",
        "    if weather_data and 'forecast' in weather_data and 'forecastday' in weather_data['forecast']:\n",
        "        dates = [day['date'] for day in weather_data['forecast']['forecastday']]\n",
        "        temps = [day['day']['avgtemp_c'] for day in weather_data['forecast']['forecastday']]\n",
        "\n",
        "        plt.figure(figsize=(10, 5))\n",
        "        plt.plot(dates, temps, marker='o', linestyle='--', color='tomato', linewidth=2)\n",
        "        plt.title(f\"Average Temperature in {weather_data['location']['name']}\", fontsize=14)\n",
        "        plt.xlabel('Date')\n",
        "        plt.ylabel('Temperature (°C)')\n",
        "        plt.grid(True)\n",
        "        plt.xticks(rotation=45)\n",
        "        plt.tight_layout()\n",
        "        if output_type == 'display':\n",
        "            plt.show()\n",
        "        else:\n",
        "            return plt.gcf()\n",
        "    else:\n",
        "        print(\"Error: Could not extract temperature data.\")\n",
        "\n",
        "def create_precipitation_visualisation(weather_data, output_type='display'):\n",
        "    if weather_data and 'forecast' in weather_data and 'forecastday' in weather_data['forecast']:\n",
        "        dates = [day['date'] for day in weather_data['forecast']['forecastday']]\n",
        "        precipitation = [day['day']['daily_chance_of_rain'] for day in weather_data['forecast']['forecastday']]\n",
        "\n",
        "        plt.figure(figsize=(10, 5))\n",
        "        plt.bar(dates, precipitation, color='skyblue')\n",
        "        plt.title(f\"Chance of Rain in {weather_data['location']['name']}\", fontsize=14)\n",
        "        plt.xlabel('Date')\n",
        "        plt.ylabel('Chance of Rain (%)')\n",
        "        plt.grid(axis='y')\n",
        "        plt.xticks(rotation=45)\n",
        "        plt.tight_layout()\n",
        "        if output_type == 'display':\n",
        "            plt.show()\n",
        "        else:\n",
        "            return plt.gcf()\n",
        "    else:\n",
        "        print(\"Error: Could not extract precipitation data.\")\n",
        "# Define parse_weather_question() and generate_weather_response() here\n",
        "def parse_weather_question(question):\n",
        "    question = question.lower()\n",
        "    parsed = {'location': None, 'attribute': None, 'time_period': 'today'}\n",
        "\n",
        "    if 'temperature' in question or 'temp' in question:\n",
        "        parsed['attribute'] = 'temperature'\n",
        "    elif 'rain' in question or 'precipitation' in question:\n",
        "        parsed['attribute'] = 'precipitation'\n",
        "\n",
        "    if 'tomorrow' in question:\n",
        "        parsed['time_period'] = 'tomorrow'\n",
        "    elif 'week' in question or '5 days' in question:\n",
        "        parsed['time_period'] = '5-day'\n",
        "\n",
        "    tokens = question.split()\n",
        "    for i in range(len(tokens)):\n",
        "        if tokens[i] in ['in', 'for', 'at'] and i + 1 < len(tokens):\n",
        "            parsed['location'] = ' '.join(tokens[i + 1:]).capitalize()\n",
        "            break\n",
        "        elif i == 0 and tokens[i].isalpha() and parsed['location'] is None:\n",
        "            parsed['location'] = tokens[i].capitalize()\n",
        "\n",
        "    return parsed\n",
        "\n",
        "def generate_weather_response(parsed_question, weather_data):\n",
        "    attribute = parsed_question['attribute']\n",
        "    time_period = parsed_question['time_period']\n",
        "    location = parsed_question['location']\n",
        "\n",
        "    if not weather_data:\n",
        "        return f\"Sorry, I couldn't retrieve the weather data for {location}.\"\n",
        "\n",
        "    forecast_days = weather_data.get('forecast', {}).get('forecastday', [])\n",
        "    if not forecast_days:\n",
        "        return \"No forecast data available.\"\n",
        "\n",
        "    if time_period == 'today':\n",
        "        if len(forecast_days) >= 1:\n",
        "            day_data = forecast_days[0]['day']\n",
        "            time_desc = \"today\"\n",
        "        else:\n",
        "            return \"No data for today.\"\n",
        "    elif time_period == 'tomorrow':\n",
        "        if len(forecast_days) >= 2:\n",
        "            day_data = forecast_days[1]['day']\n",
        "            time_desc = \"tomorrow\"\n",
        "        else:\n",
        "            return \"No data for tomorrow.\"\n",
        "    elif time_period == '5-day':\n",
        "        response = f\"Here is the 5-day forecast for {location}:\\n\"\n",
        "        for day in forecast_days:\n",
        "            date = day['date']\n",
        "            avg_temp = day['day'].get('avgtemp_c', 'N/A')\n",
        "            rain_chance = day['day'].get('daily_chance_of_rain', 'N/A')\n",
        "            response += f\"{date}: Avg Temp: {avg_temp}°C, Rain: {rain_chance}%\\n\"\n",
        "        return response\n",
        "    else:\n",
        "        return \"Time period not recognized.\"\n",
        "\n",
        "    if attribute == 'temperature':\n",
        "        return f\"The average temperature in {location} {time_desc} is {day_data.get('avgtemp_c', 'N/A')}°C.\"\n",
        "    elif attribute == 'precipitation':\n",
        "        return f\"There is a {day_data.get('daily_chance_of_rain', 'N/A')}% chance of rain in {location} {time_desc}.\"\n",
        "    else:\n",
        "        return \"I couldn't identify the weather detail you're asking for.\"\n",
        "\n",
        "# Define the menu function outside of generate_weather_response\n",
        "def main_menu():\n",
        "    print(\"=== Welcome to Weather Advisor ===\")\n",
        "    last_location = None\n",
        "\n",
        "    while True:\n",
        "        print(\"\\nWeather Advisor Menu\")\n",
        "        print(\"Please select one of the following:\")\n",
        "        choice = pyip.inputMenu(\n",
        "            ['Ask a question', 'Show temperature chart', 'Show precipitation chart', 'Exit'],\n",
        "            numbered=True\n",
        "        )\n",
        "\n",
        "        if choice == 'Ask a question':\n",
        "            question = input(\"What would you like to know about the weather?\\n> \")\n",
        "            parsed = parse_weather_question(question)\n",
        "            data = get_weather_data(parsed['location'])\n",
        "            response = generate_weather_response(parsed, data)\n",
        "            print(\"\\n\" + response + \"\\n\")\n",
        "            last_location = parsed['location']\n",
        "\n",
        "        elif choice in ['Show temperature chart', 'Show precipitation chart']:\n",
        "            if last_location:\n",
        "                use_last = pyip.inputYesNo(f\"Use last location ({last_location})? (yes/no): \")\n",
        "                if use_last == 'yes':\n",
        "                    location = last_location\n",
        "                else:\n",
        "                    location = pyip.inputStr(\"Enter a location: \")\n",
        "                    last_location = location\n",
        "            else:\n",
        "                location = pyip.inputStr(\"Enter a location: \")\n",
        "                last_location = location\n",
        "\n",
        "            data = get_weather_data(location)\n",
        "            if data:\n",
        "                if choice == 'Show temperature chart':\n",
        "                    create_temperature_visualisation(data)\n",
        "                else:\n",
        "                    create_precipitation_visualisation(data)\n",
        "\n",
        "        elif choice == 'Exit':\n",
        "            print(\"Goodbye!\")\n",
        "            break"
      ]
    },
    {
      "cell_type": "markdown",
      "id": "fde44479",
      "metadata": {
        "id": "fde44479"
      },
      "source": [
        "## 🧪 Testing and Examples"
      ]
    },
    {
      "cell_type": "code",
      "execution_count": null,
      "id": "4e573901",
      "metadata": {
        "id": "4e573901"
      },
      "outputs": [],
      "source": [
        "## Include sample input/output for each function\n",
        "def run_tests():\n",
        "    print(\"\\n--- Running Tests ---\")\n",
        "    sample_location = \"London\"\n",
        "    data = get_weather_data(sample_location)\n",
        "    assert data is not None, \"Failed to get weather data.\"\n",
        "    assert \"forecast\" in data, \"Missing 'forecast' in response.\"\n",
        "    assert \"forecastday\" in data[\"forecast\"], \"Missing 'forecastday' in forecast.\"\n",
        "    assert \"day\" in data[\"forecast\"][\"forecastday\"][0], \"Missing 'day' in forecastday.\"\n",
        "    print(\"All tests passed!\")\n",
        "\n",
        "# === Run the application ===\n",
        "if __name__ == \"__main__\":\n",
        "    run_tests()\n",
        "    menu()"
      ]
    },
    {
      "cell_type": "markdown",
      "id": "d2885880",
      "metadata": {
        "id": "d2885880"
      },
      "source": [
        "## 🗂️ AI Prompting Log (Optional)\n",
        "Add markdown cells here summarising prompts used or link to AI conversations in the `ai-conversations/` folder."
      ]
    }
  ],
  "metadata": {
    "language_info": {
      "name": "python"
    },
    "colab": {
      "provenance": [],
      "include_colab_link": true
    },
    "kernelspec": {
      "name": "python3",
      "display_name": "Python 3"
    }
  },
  "nbformat": 4,
  "nbformat_minor": 5
}