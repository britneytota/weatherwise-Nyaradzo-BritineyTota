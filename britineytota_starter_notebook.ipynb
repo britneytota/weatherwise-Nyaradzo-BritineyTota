{
  "cells": [
    {
      "cell_type": "markdown",
      "metadata": {
        "id": "view-in-github",
        "colab_type": "text"
      },
      "source": [
        "<a href=\"https://colab.research.google.com/github/britneytota/weatherwise-Nyaradzo-BritineyTota/blob/main/britineytota_starter_notebook.ipynb\" target=\"_parent\"><img src=\"https://colab.research.google.com/assets/colab-badge.svg\" alt=\"Open In Colab\"/></a>"
      ]
    },
    {
      "cell_type": "markdown",
      "id": "fa8c7f6c",
      "metadata": {
        "id": "fa8c7f6c"
      },
      "source": [
        "## 🧰 Setup and Imports\n",
        "\n",
        "This section imports commonly used packages and installs any additional tools used in the project.\n",
        "\n",
        "- You may not need all of these unless you're using specific features (e.g. visualisations, advanced prompting).\n",
        "- The notebook assumes the following packages are **pre-installed** in the provided environment or installable via pip:\n",
        "  - `requests`, `matplotlib`, `pyinputplus`\n",
        "  - `fetch-my-weather` (for accessing weather data easily)\n",
        "  - `hands-on-ai` (for AI logging, comparisons, or prompting tools)\n",
        "\n",
        "If you're running this notebook in **Google Colab**, uncomment the following lines to install the required packages.\n"
      ]
    },
    {
      "cell_type": "markdown",
      "id": "72e78a05",
      "metadata": {
        "id": "72e78a05"
      },
      "source": [
        "# 🌦️ WeatherWise – NyaradzoBritineyTota\n",
        "\n",
        "Welcome to your **WeatherWise** project notebook! This scaffold is designed to help you build your weather advisor app using Python, visualisations, and AI-enhanced development.\n",
        "\n",
        "---\n",
        "\n",
        "📄 **Full Assignment Specification**  \n",
        "See [`ASSIGNMENT.md`](ASSIGNMENT.md) or check the LMS for full details.\n",
        "\n",
        "📝 **Quick Refresher**  \n",
        "A one-page summary is available in [`resources/assignment-summary.md`](resources/assignment-summary.md).\n",
        "\n",
        "---\n",
        "\n",
        "🧠 **This Notebook Structure is Optional**  \n",
        "You’re encouraged to reorganise, rename sections, or remove scaffold cells if you prefer — as long as your final version meets the requirements.\n",
        "\n",
        "✅ You may delete this note before submission.\n",
        "\n"
      ]
    },
    {
      "cell_type": "code",
      "execution_count": null,
      "id": "70c3f3f1",
      "metadata": {
        "id": "70c3f3f1"
      },
      "outputs": [],
      "source": [
        "# %%\n",
        "# 🧪 Optional packages — uncomment if needed in Colab or JupyterHub\n",
        "!pip install fetch-my-weather\n",
        "!pip install hands-on-ai\n",
        "!pip install pyinputplus\n",
        "# %%"
      ]
    },
    {
      "cell_type": "code",
      "source": [
        "#  %%\n",
        "# Import packages after installation\n",
        "import os\n",
        "import requests # Import requests as it is used later in the notebook\n",
        "import matplotlib.pyplot as plt # Import matplotlib.pyplot and alias it as plt\n",
        "\n",
        "# Set environment variables\n",
        "os.environ['HANDS_ON_AI_SERVER'] = 'http://ollama.serveur.au'\n",
        "os.environ['HANDS_ON_AI_MODEL'] = 'granite3.2'\n",
        "# The API key input might need to be handled interactively or set another way\n",
        "# depending on the execution environment.\n",
        "# For now, keep it as is, but be aware it might pause execution.\n",
        "# You might want to handle this more robustly in a final application\n",
        "os.environ['HANDS_ON_AI_API_KEY'] = input('Enter your API key: ')"
      ],
      "metadata": {
        "id": "B2JKlJfrGgIb",
        "colab": {
          "base_uri": "https://localhost:8080/"
        },
        "outputId": "78aeb552-d035-49a1-b04a-57e7dac08b70"
      },
      "id": "B2JKlJfrGgIb",
      "execution_count": 5,
      "outputs": [
        {
          "name": "stdout",
          "output_type": "stream",
          "text": [
            "Enter your API key: a3b5e8e81d734dfc872201958252205 \n"
          ]
        }
      ]
    },
    {
      "cell_type": "markdown",
      "id": "59ae7543",
      "metadata": {
        "id": "59ae7543"
      },
      "source": [
        "## 📦 Setup and Configuration\n",
        "Import required packages and setup environment."
      ]
    },
    {
      "cell_type": "code",
      "execution_count": null,
      "id": "f1dd051e",
      "metadata": {
        "id": "f1dd051e"
      },
      "outputs": [],
      "source": [
        "import requests\n",
        "# 🧪 Optional packages — uncomment if needed in Colab or JupyterHub\n",
        "!pip install fetch-my-weather\n",
        "!pip install hands-on-ai\n",
        "!pip install pyinputplus\n",
        "WEATHER_API_KEY = \"2aa72b4fa5db4ed6b41181657252105\"  # Replace with your actual API key\n",
        "BASE_WEATHER_URL = \"http://api.weatherapi.com/v1\"\n"
      ]
    },
    {
      "cell_type": "markdown",
      "id": "f736ade3",
      "metadata": {
        "id": "f736ade3"
      },
      "source": [
        "## 🌤️ Weather Data Functions"
      ]
    },
    {
      "cell_type": "code",
      "execution_count": null,
      "id": "7a2c7cd0",
      "metadata": {
        "id": "7a2c7cd0"
      },
      "outputs": [],
      "source": [
        "# Define get_weather_data() function here\n",
        "def get_weather_data(location, forecast_days=3):\n",
        "    endpoint = f\"{BASE_WEATHER_URL}/forecast.json\"\n",
        "    params = {\n",
        "        'key': WEATHER_API_KEY,\n",
        "        'q': location,\n",
        "        'days': forecast_days,\n",
        "        'aqi': 'no',\n",
        "        'alerts': 'no'\n",
        "    }\n",
        "    try:\n",
        "        response = requests.get(endpoint, params=params)\n",
        "        response.raise_for_status()\n",
        "        return response.json()\n",
        "    except requests.RequestException as e:\n",
        "        print(f\"Error fetching data for {location}: {e}\")\n",
        "        return None"
      ]
    },
    {
      "cell_type": "markdown",
      "id": "8a744fdc",
      "metadata": {
        "id": "8a744fdc"
      },
      "source": [
        "## 📊 Visualisation Functions"
      ]
    },
    {
      "cell_type": "code",
      "execution_count": null,
      "id": "9dc3bf85",
      "metadata": {
        "id": "9dc3bf85"
      },
      "outputs": [],
      "source": [
        "# Define create_temperature_visualisation() and create_precipitation_visualisation() here\n",
        "def create_temperature_visualisation(weather_data, output_type='display'):\n",
        "    if weather_data and 'forecast' in weather_data and 'forecastday' in weather_data['forecast']:\n",
        "        dates = [day['date'] for day in weather_data['forecast']['forecastday']]\n",
        "        temps = [day['day']['avgtemp_c'] for day in weather_data['forecast']['forecastday']]\n",
        "\n",
        "        plt.figure(figsize=(10, 5))\n",
        "        plt.plot(dates, temps, marker='o', linestyle='--', color='tomato', linewidth=2)\n",
        "        plt.title(f\"Average Temperature in {weather_data['location']['name']}\", fontsize=14)\n",
        "        plt.xlabel('Date')\n",
        "        plt.ylabel('Temperature (°C)')\n",
        "        plt.grid(True)\n",
        "        plt.xticks(rotation=45)\n",
        "        plt.tight_layout()\n",
        "        if output_type == 'display':\n",
        "            plt.show()\n",
        "        else:\n",
        "            return plt.gcf()\n",
        "    else:\n",
        "        print(\"Error: Could not extract temperature data.\")\n",
        "\n"
      ]
    },
    {
      "cell_type": "code",
      "source": [
        "\n",
        "def create_precipitation_visualisation(weather_data, output_type='display'):\n",
        "    if weather_data and 'forecast' in weather_data and 'forecastday' in weather_data['forecast']:\n",
        "        dates = [day['date'] for day in weather_data['forecast']['forecastday']]\n",
        "        precipitation = [day['day']['daily_chance_of_rain'] for day in weather_data['forecast']['forecastday']]\n",
        "\n",
        "        plt.figure(figsize=(10, 5))\n",
        "        plt.bar(dates, precipitation, color='skyblue')\n",
        "        plt.title(f\"Chance of Rain in {weather_data['location']['name']}\", fontsize=14)\n",
        "        plt.xlabel('Date')\n",
        "        plt.ylabel('Chance of Rain (%)')\n",
        "        plt.grid(axis='y')\n",
        "        plt.xticks(rotation=45)\n",
        "        plt.tight_layout()\n",
        "        if output_type == 'display':\n",
        "            plt.show()\n",
        "        else:\n",
        "            return plt.gcf()\n",
        "    else:\n",
        "        print(\"Error: Could not extract precipitation data.\")\n"
      ],
      "metadata": {
        "id": "HpOlQylYG5Ho"
      },
      "id": "HpOlQylYG5Ho",
      "execution_count": null,
      "outputs": []
    },
    {
      "cell_type": "markdown",
      "id": "9f95d160",
      "metadata": {
        "id": "9f95d160"
      },
      "source": [
        "## 🤖 Natural Language Processing"
      ]
    },
    {
      "cell_type": "code",
      "execution_count": null,
      "id": "bcc5833e",
      "metadata": {
        "id": "bcc5833e"
      },
      "outputs": [],
      "source": [
        "# Define parse_weather_question() and generate_weather_response() here\n",
        "def parse_weather_question(question):\n",
        "    question = question.lower()\n",
        "    parsed = {'location': None, 'attribute': None, 'time_period': 'today'}\n",
        "\n",
        "    if 'temperature' in question or 'temp' in question:\n",
        "        parsed['attribute'] = 'temperature'\n",
        "    elif 'rain' in question or 'precipitation' in question:\n",
        "        parsed['attribute'] = 'precipitation'\n",
        "\n",
        "    if 'tomorrow' in question:\n",
        "        parsed['time_period'] = 'tomorrow'\n",
        "    elif 'week' in question or '5 days' in question:\n",
        "        parsed['time_period'] = '5-day'\n",
        "\n",
        "    tokens = question.split()\n",
        "    for i in range(len(tokens)):\n",
        "        if tokens[i] in ['in', 'for', 'at'] and i + 1 < len(tokens):\n",
        "            parsed['location'] = ' '.join(tokens[i + 1:]).capitalize()\n",
        "            break\n",
        "        elif i == 0 and tokens[i].isalpha() and parsed['location'] is None:\n",
        "            parsed['location'] = tokens[i].capitalize()\n",
        "\n",
        "    return parsed\n",
        "\n",
        "def generate_weather_response(parsed_question, weather_data):\n",
        "    attribute = parsed_question['attribute']\n",
        "    time_period = parsed_question['time_period']\n",
        "    location = parsed_question['location']\n",
        "\n",
        "    if not weather_data:\n",
        "        return f\"Sorry, I couldn't retrieve the weather data for {location}.\"\n",
        "\n",
        "    forecast_days = weather_data.get('forecast', {}).get('forecastday', [])\n",
        "    if not forecast_days:\n",
        "        return \"No forecast data available.\"\n",
        "\n",
        "    if time_period == 'today':\n",
        "        if len(forecast_days) >= 1:\n",
        "            day_data = forecast_days[0]['day']\n",
        "            time_desc = \"today\"\n",
        "        else:\n",
        "            return \"No data for today.\"\n",
        "    elif time_period == 'tomorrow':\n",
        "        if len(forecast_days) >= 2:\n",
        "            day_data = forecast_days[1]['day']\n",
        "            time_desc = \"tomorrow\"\n",
        "        else:\n",
        "            return \"No data for tomorrow.\"\n",
        "    elif time_period == '5-day':\n",
        "        response = f\"Here is the 5-day forecast for {location}:\\n\"\n",
        "        for day in forecast_days:\n",
        "            date = day['date']\n",
        "            avg_temp = day['day'].get('avgtemp_c', 'N/A')\n",
        "            rain_chance = day['day'].get('daily_chance_of_rain', 'N/A')\n",
        "            response += f\"{date}: Avg Temp: {avg_temp}°C, Rain: {rain_chance}%\\n\"\n",
        "        return response\n",
        "    else:\n",
        "        return \"Time period not recognized.\"\n",
        "\n",
        "    if attribute == 'temperature':\n",
        "        return f\"The average temperature in {location} {time_desc} is {day_data.get('avgtemp_c', 'N/A')}°C.\"\n",
        "    elif attribute == 'precipitation':\n",
        "        return f\"There is a {day_data.get('daily_chance_of_rain', 'N/A')}% chance of rain in {location} {time_desc}.\"\n",
        "    else:\n",
        "        return \"I couldn't identify the weather detail you're asking for.\"\n",
        "\n",
        "# Define the menu function outside of generate_weather_response\n",
        "def main_menu():\n",
        "    print(\"=== Welcome to Weather Advisor ===\")\n",
        "    last_location = None\n",
        "\n",
        "    while True:\n",
        "        print(\"\\nWeather Advisor Menu\")\n",
        "        print(\"Please select one of the following:\")\n",
        "        choice = pyip.inputMenu(\n",
        "            ['Ask a question', 'Show temperature chart', 'Show precipitation chart', 'Exit'],\n",
        "            numbered=True\n",
        "        )\n",
        "\n",
        "        if choice == 'Ask a question':\n",
        "            question = input(\"What would you like to know about the weather?\\n> \")\n",
        "            parsed = parse_weather_question(question)\n",
        "            data = get_weather_data(parsed['location'])\n",
        "            response = generate_weather_response(parsed, data)\n",
        "            print(\"\\n\" + response + \"\\n\")\n",
        "            last_location = parsed['location']\n",
        "\n",
        "        elif choice in ['Show temperature chart', 'Show precipitation chart']:\n",
        "            if last_location:\n",
        "                use_last = pyip.inputYesNo(f\"Use last location ({last_location})? (yes/no): \")\n",
        "                if use_last == 'yes':\n",
        "                    location = last_location\n",
        "                else:\n",
        "                    location = pyip.inputStr(\"Enter a location: \")\n",
        "                    last_location = location\n",
        "            else:\n",
        "                location = pyip.inputStr(\"Enter a location: \")\n",
        "                last_location = location\n",
        "\n",
        "            data = get_weather_data(location)\n",
        "            if data:\n",
        "                if choice == 'Show temperature chart':\n",
        "                    create_temperature_visualisation(data)\n",
        "                else:\n",
        "                    create_precipitation_visualisation(data)\n",
        "\n",
        "        elif choice == 'Exit':\n",
        "            print(\"Goodbye!\")\n",
        "            break"
      ]
    },
    {
      "cell_type": "markdown",
      "id": "0d85225e",
      "metadata": {
        "id": "0d85225e"
      },
      "source": [
        "## 🧭 User Interface"
      ]
    },
    {
      "cell_type": "code",
      "execution_count": null,
      "id": "fa6cb0f6",
      "metadata": {
        "id": "fa6cb0f6"
      },
      "outputs": [],
      "source": [
        "# Define menu functions using pyinputplus or ipywidgets here\n",
        "def menu():\n",
        "    print(\"\\nWeather Advisor Menu\")\n",
        "    while True:\n",
        "        choice = pyip.inputMenu(['Ask a question', 'Show temperature chart', 'Show precipitation chart', 'Exit'], numbered=True)\n",
        "\n",
        "        if choice == 'Ask a question':\n",
        "            question = input(\"Ask your weather question (e.g., What's the temp in Paris tomorrow?): \")\n",
        "            parsed = parse_weather_question(question)\n",
        "            location = parsed['location']\n",
        "            if location:\n",
        "                data = get_weather_data(location)\n",
        "                response = generate_weather_response(parsed, data)\n",
        "                print(response)\n",
        "            else:\n",
        "                print(\"Please include a location in your question.\")\n",
        "\n",
        "        elif choice == 'Show temperature chart':\n",
        "            location = input(\"Enter a location: \")\n",
        "            data = get_weather_data(location)\n",
        "            if data:\n",
        "                create_temperature_visualisation(data)\n",
        "            else:\n",
        "                print(f\"Could not retrieve data for {location}.\")\n",
        "\n",
        "        elif choice == 'Show precipitation chart':\n",
        "            location = input(\"Enter a location: \")\n",
        "            data = get_weather_data(location)\n",
        "            if data:\n",
        "                create_precipitation_visualisation(data)\n",
        "            else:\n",
        "                print(f\"Could not retrieve data for {location}.\")\n",
        "\n",
        "        elif choice == 'Exit':\n",
        "            print(\"Goodbye!\")\n",
        "            break"
      ]
    },
    {
      "cell_type": "markdown",
      "id": "d643a53c",
      "metadata": {
        "id": "d643a53c"
      },
      "source": [
        "## 🧩 Main Application Logic"
      ]
    },
    {
      "cell_type": "code",
      "execution_count": 8,
      "id": "a9e2e805",
      "metadata": {
        "id": "a9e2e805",
        "colab": {
          "base_uri": "https://localhost:8080/",
          "height": 329
        },
        "outputId": "48fda21b-d703-4806-f4f5-fadc473dee71"
      },
      "outputs": [
        {
          "output_type": "error",
          "ename": "KeyboardInterrupt",
          "evalue": "Interrupted by user",
          "traceback": [
            "\u001b[0;31m---------------------------------------------------------------------------\u001b[0m",
            "\u001b[0;31mKeyboardInterrupt\u001b[0m                         Traceback (most recent call last)",
            "\u001b[0;32m<ipython-input-8-c716e5bebfdf>\u001b[0m in \u001b[0;36m<cell line: 0>\u001b[0;34m()\u001b[0m\n\u001b[1;32m    191\u001b[0m \u001b[0;34m\u001b[0m\u001b[0m\n\u001b[1;32m    192\u001b[0m \u001b[0;32mif\u001b[0m \u001b[0m__name__\u001b[0m \u001b[0;34m==\u001b[0m \u001b[0;34m\"__main__\"\u001b[0m\u001b[0;34m:\u001b[0m\u001b[0;34m\u001b[0m\u001b[0;34m\u001b[0m\u001b[0m\n\u001b[0;32m--> 193\u001b[0;31m     \u001b[0mmain_menu\u001b[0m\u001b[0;34m(\u001b[0m\u001b[0;34m)\u001b[0m\u001b[0;34m\u001b[0m\u001b[0;34m\u001b[0m\u001b[0m\n\u001b[0m",
            "\u001b[0;32m<ipython-input-8-c716e5bebfdf>\u001b[0m in \u001b[0;36mmain_menu\u001b[0;34m()\u001b[0m\n\u001b[1;32m    154\u001b[0m         \u001b[0mprint\u001b[0m\u001b[0;34m(\u001b[0m\u001b[0;34m\"\\nWeather Advisor Menu\"\u001b[0m\u001b[0;34m)\u001b[0m\u001b[0;34m\u001b[0m\u001b[0;34m\u001b[0m\u001b[0m\n\u001b[1;32m    155\u001b[0m         \u001b[0mprint\u001b[0m\u001b[0;34m(\u001b[0m\u001b[0;34m\"Please select one of the following:\"\u001b[0m\u001b[0;34m)\u001b[0m\u001b[0;34m\u001b[0m\u001b[0;34m\u001b[0m\u001b[0m\n\u001b[0;32m--> 156\u001b[0;31m         choice = pyip.inputMenu(\n\u001b[0m\u001b[1;32m    157\u001b[0m             \u001b[0;34m[\u001b[0m\u001b[0;34m'Ask a question'\u001b[0m\u001b[0;34m,\u001b[0m \u001b[0;34m'Show temperature chart'\u001b[0m\u001b[0;34m,\u001b[0m \u001b[0;34m'Show precipitation chart'\u001b[0m\u001b[0;34m,\u001b[0m \u001b[0;34m'Exit'\u001b[0m\u001b[0;34m]\u001b[0m\u001b[0;34m,\u001b[0m\u001b[0;34m\u001b[0m\u001b[0;34m\u001b[0m\u001b[0m\n\u001b[1;32m    158\u001b[0m             \u001b[0mnumbered\u001b[0m\u001b[0;34m=\u001b[0m\u001b[0;32mTrue\u001b[0m\u001b[0;34m\u001b[0m\u001b[0;34m\u001b[0m\u001b[0m\n",
            "\u001b[0;32m/usr/local/lib/python3.11/dist-packages/pyinputplus/__init__.py\u001b[0m in \u001b[0;36minputMenu\u001b[0;34m(choices, prompt, default, blank, timeout, limit, strip, allowRegexes, blockRegexes, applyFunc, postValidateApplyFunc, numbered, lettered, caseSensitive)\u001b[0m\n\u001b[1;32m    760\u001b[0m     \u001b[0mprompt\u001b[0m \u001b[0;34m+=\u001b[0m \u001b[0;34m\"\\n\"\u001b[0m\u001b[0;34m\u001b[0m\u001b[0;34m\u001b[0m\u001b[0m\n\u001b[1;32m    761\u001b[0m \u001b[0;34m\u001b[0m\u001b[0m\n\u001b[0;32m--> 762\u001b[0;31m     result = _genericInput(\n\u001b[0m\u001b[1;32m    763\u001b[0m         \u001b[0mprompt\u001b[0m\u001b[0;34m=\u001b[0m\u001b[0mprompt\u001b[0m\u001b[0;34m,\u001b[0m\u001b[0;34m\u001b[0m\u001b[0;34m\u001b[0m\u001b[0m\n\u001b[1;32m    764\u001b[0m         \u001b[0mdefault\u001b[0m\u001b[0;34m=\u001b[0m\u001b[0mdefault\u001b[0m\u001b[0;34m,\u001b[0m\u001b[0;34m\u001b[0m\u001b[0;34m\u001b[0m\u001b[0m\n",
            "\u001b[0;32m/usr/local/lib/python3.11/dist-packages/pyinputplus/__init__.py\u001b[0m in \u001b[0;36m_genericInput\u001b[0;34m(prompt, default, timeout, limit, applyFunc, validationFunc, postValidateApplyFunc, passwordMask)\u001b[0m\n\u001b[1;32m    154\u001b[0m         \u001b[0mprint\u001b[0m\u001b[0;34m(\u001b[0m\u001b[0mprompt\u001b[0m\u001b[0;34m,\u001b[0m \u001b[0mend\u001b[0m\u001b[0;34m=\u001b[0m\u001b[0;34m\"\"\u001b[0m\u001b[0;34m)\u001b[0m\u001b[0;34m\u001b[0m\u001b[0;34m\u001b[0m\u001b[0m\n\u001b[1;32m    155\u001b[0m         \u001b[0;32mif\u001b[0m \u001b[0mpasswordMask\u001b[0m \u001b[0;32mis\u001b[0m \u001b[0;32mNone\u001b[0m\u001b[0;34m:\u001b[0m\u001b[0;34m\u001b[0m\u001b[0;34m\u001b[0m\u001b[0m\n\u001b[0;32m--> 156\u001b[0;31m             \u001b[0muserInput\u001b[0m \u001b[0;34m=\u001b[0m \u001b[0minput\u001b[0m\u001b[0;34m(\u001b[0m\u001b[0;34m)\u001b[0m\u001b[0;34m\u001b[0m\u001b[0;34m\u001b[0m\u001b[0m\n\u001b[0m\u001b[1;32m    157\u001b[0m         \u001b[0;32melse\u001b[0m\u001b[0;34m:\u001b[0m\u001b[0;34m\u001b[0m\u001b[0;34m\u001b[0m\u001b[0m\n\u001b[1;32m    158\u001b[0m             \u001b[0muserInput\u001b[0m \u001b[0;34m=\u001b[0m \u001b[0mstdiomask\u001b[0m\u001b[0;34m.\u001b[0m\u001b[0mgetpass\u001b[0m\u001b[0;34m(\u001b[0m\u001b[0mprompt\u001b[0m\u001b[0;34m=\u001b[0m\u001b[0;34m\"\"\u001b[0m\u001b[0;34m,\u001b[0m \u001b[0mmask\u001b[0m\u001b[0;34m=\u001b[0m\u001b[0mpasswordMask\u001b[0m\u001b[0;34m)\u001b[0m\u001b[0;34m\u001b[0m\u001b[0;34m\u001b[0m\u001b[0m\n",
            "\u001b[0;32m/usr/local/lib/python3.11/dist-packages/ipykernel/kernelbase.py\u001b[0m in \u001b[0;36mraw_input\u001b[0;34m(self, prompt)\u001b[0m\n\u001b[1;32m   1175\u001b[0m                 \u001b[0;34m\"raw_input was called, but this frontend does not support input requests.\"\u001b[0m\u001b[0;34m\u001b[0m\u001b[0;34m\u001b[0m\u001b[0m\n\u001b[1;32m   1176\u001b[0m             )\n\u001b[0;32m-> 1177\u001b[0;31m         return self._input_request(\n\u001b[0m\u001b[1;32m   1178\u001b[0m             \u001b[0mstr\u001b[0m\u001b[0;34m(\u001b[0m\u001b[0mprompt\u001b[0m\u001b[0;34m)\u001b[0m\u001b[0;34m,\u001b[0m\u001b[0;34m\u001b[0m\u001b[0;34m\u001b[0m\u001b[0m\n\u001b[1;32m   1179\u001b[0m             \u001b[0mself\u001b[0m\u001b[0;34m.\u001b[0m\u001b[0m_parent_ident\u001b[0m\u001b[0;34m[\u001b[0m\u001b[0;34m\"shell\"\u001b[0m\u001b[0;34m]\u001b[0m\u001b[0;34m,\u001b[0m\u001b[0;34m\u001b[0m\u001b[0;34m\u001b[0m\u001b[0m\n",
            "\u001b[0;32m/usr/local/lib/python3.11/dist-packages/ipykernel/kernelbase.py\u001b[0m in \u001b[0;36m_input_request\u001b[0;34m(self, prompt, ident, parent, password)\u001b[0m\n\u001b[1;32m   1217\u001b[0m             \u001b[0;32mexcept\u001b[0m \u001b[0mKeyboardInterrupt\u001b[0m\u001b[0;34m:\u001b[0m\u001b[0;34m\u001b[0m\u001b[0;34m\u001b[0m\u001b[0m\n\u001b[1;32m   1218\u001b[0m                 \u001b[0;31m# re-raise KeyboardInterrupt, to truncate traceback\u001b[0m\u001b[0;34m\u001b[0m\u001b[0;34m\u001b[0m\u001b[0m\n\u001b[0;32m-> 1219\u001b[0;31m                 \u001b[0;32mraise\u001b[0m \u001b[0mKeyboardInterrupt\u001b[0m\u001b[0;34m(\u001b[0m\u001b[0;34m\"Interrupted by user\"\u001b[0m\u001b[0;34m)\u001b[0m \u001b[0;32mfrom\u001b[0m \u001b[0;32mNone\u001b[0m\u001b[0;34m\u001b[0m\u001b[0;34m\u001b[0m\u001b[0m\n\u001b[0m\u001b[1;32m   1220\u001b[0m             \u001b[0;32mexcept\u001b[0m \u001b[0mException\u001b[0m\u001b[0;34m:\u001b[0m\u001b[0;34m\u001b[0m\u001b[0;34m\u001b[0m\u001b[0m\n\u001b[1;32m   1221\u001b[0m                 \u001b[0mself\u001b[0m\u001b[0;34m.\u001b[0m\u001b[0mlog\u001b[0m\u001b[0;34m.\u001b[0m\u001b[0mwarning\u001b[0m\u001b[0;34m(\u001b[0m\u001b[0;34m\"Invalid Message:\"\u001b[0m\u001b[0;34m,\u001b[0m \u001b[0mexc_info\u001b[0m\u001b[0;34m=\u001b[0m\u001b[0;32mTrue\u001b[0m\u001b[0;34m)\u001b[0m\u001b[0;34m\u001b[0m\u001b[0;34m\u001b[0m\u001b[0m\n",
            "\u001b[0;31mKeyboardInterrupt\u001b[0m: Interrupted by user"
          ]
        }
      ],
      "source": [
        "import os\n",
        "import requests\n",
        "import pyinputplus as pyip\n",
        "import matplotlib.pyplot as plt\n",
        "\n",
        "# Ensure environment variables and constants are set if they weren't before this block\n",
        "# (This assumes the previous cells have been run, but it's good practice to ensure)\n",
        "os.environ['HANDS_ON_AI_SERVER'] = 'http://ollama.serveur.au'\n",
        "os.environ['HANDS_ON_AI_MODEL'] = 'granite3.2'\n",
        "# The API key input should ideally be handled once, but keeping it here aligns with the notebook structure\n",
        "# os.environ['HANDS_ON_AI_API_KEY'] = input('Enter your API key: ')\n",
        "WEATHER_API_KEY = \"a3b5e8e81d734dfc872201958252205 \" # Use the key from the notebook\n",
        "BASE_WEATHER_URL = \"http://api.weatherapi.com/v1\"\n",
        "\n",
        "# Redefine get_weather_data with debugging prints (as shown above)\n",
        "def get_weather_data(location, forecast_days=3):\n",
        "    endpoint = f\"{BASE_WEATHER_URL}/forecast.json\"\n",
        "    params = {\n",
        "        'key': WEATHER_API_KEY,\n",
        "        'q': location,\n",
        "        'days': forecast_days,\n",
        "        'aqi': 'no',\n",
        "        'alerts': 'no'\n",
        "    }\n",
        "    try:\n",
        "        response = requests.get(endpoint, params=params)\n",
        "        # Add print statements to help debug API issues\n",
        "        if response.status_code != 200:\n",
        "            print(f\"API returned status code {response.status_code} for {location}.\")\n",
        "            print(f\"API response body: {response.text}\")\n",
        "        response.raise_for_status()\n",
        "        return response.json()\n",
        "    except requests.RequestException as e:\n",
        "        print(f\"Error fetching data for {location}: {e}\")\n",
        "        return None\n",
        "\n",
        "# Redefine visualisation functions (assuming they are needed in main_menu or tests)\n",
        "# These are already defined, but redefined here to ensure they are available in this block\n",
        "def create_temperature_visualisation(weather_data, output_type='display'):\n",
        "    if weather_data and 'forecast' in weather_data and 'forecastday' in weather_data['forecast']:\n",
        "        dates = [day['date'] for day in weather_data['forecast']['forecastday']]\n",
        "        temps = [day['day']['avgtemp_c'] for day in weather_data['forecast']['forecastday']]\n",
        "\n",
        "        plt.figure(figsize=(10, 5))\n",
        "        plt.plot(dates, temps, marker='o', linestyle='--', color='tomato', linewidth=2)\n",
        "        plt.title(f\"Average Temperature in {weather_data['location']['name']}\", fontsize=14)\n",
        "        plt.xlabel('Date')\n",
        "        plt.ylabel('Temperature (°C)')\n",
        "        plt.grid(True)\n",
        "        plt.xticks(rotation=45)\n",
        "        plt.tight_layout()\n",
        "        if output_type == 'display':\n",
        "            plt.show()\n",
        "        else:\n",
        "            return plt.gcf()\n",
        "    else:\n",
        "        print(\"Error: Could not extract temperature data.\")\n",
        "\n",
        "def create_precipitation_visualisation(weather_data, output_type='display'):\n",
        "    if weather_data and 'forecast' in weather_data and 'forecastday' in weather_data['forecast']:\n",
        "        dates = [day['date'] for day in weather_data['forecast']['forecastday']]\n",
        "        precipitation = [day['day']['daily_chance_of_rain'] for day in weather_data['forecast']['forecastday']]\n",
        "\n",
        "        plt.figure(figsize=(10, 5))\n",
        "        plt.bar(dates, precipitation, color='skyblue')\n",
        "        plt.title(f\"Chance of Rain in {weather_data['location']['name']}\", fontsize=14)\n",
        "        plt.xlabel('Date')\n",
        "        plt.ylabel('Chance of Rain (%)')\n",
        "        plt.grid(axis='y')\n",
        "        plt.xticks(rotation=45)\n",
        "        plt.tight_layout()\n",
        "        if output_type == 'display':\n",
        "            plt.show()\n",
        "        else:\n",
        "            return plt.gcf()\n",
        "    else:\n",
        "        print(\"Error: Could not extract precipitation data.\")\n",
        "\n",
        "# Redefine NLP functions (assuming they are needed in main_menu)\n",
        "# These are already defined, but redefined here to ensure they are available in this block\n",
        "def parse_weather_question(question):\n",
        "    question = question.lower()\n",
        "    parsed = {'location': None, 'attribute': None, 'time_period': 'today'}\n",
        "\n",
        "    if 'temperature' in question or 'temp' in question:\n",
        "        parsed['attribute'] = 'temperature'\n",
        "    elif 'rain' in question or 'precipitation' in question:\n",
        "        parsed['attribute'] = 'precipitation'\n",
        "\n",
        "    if 'tomorrow' in question:\n",
        "        parsed['time_period'] = 'tomorrow'\n",
        "    elif 'week' in question or '5 days' in question:\n",
        "        parsed['time_period'] = '5-day'\n",
        "\n",
        "    tokens = question.split()\n",
        "    for i in range(len(tokens)):\n",
        "        if tokens[i] in ['in', 'for', 'at'] and i + 1 < len(tokens):\n",
        "            parsed['location'] = ' '.join(tokens[i + 1:]).capitalize()\n",
        "            break\n",
        "        elif i == 0 and tokens[i].isalpha() and parsed['location'] is None:\n",
        "            parsed['location'] = tokens[i].capitalize()\n",
        "\n",
        "    return parsed\n",
        "\n",
        "def generate_weather_response(parsed_question, weather_data):\n",
        "    attribute = parsed_question['attribute']\n",
        "    time_period = parsed_question['time_period']\n",
        "    location = parsed_question['location']\n",
        "\n",
        "    if not weather_data:\n",
        "        return f\"Sorry, I couldn't retrieve the weather data for {location}.\"\n",
        "\n",
        "    forecast_days = weather_data.get('forecast', {}).get('forecastday', [])\n",
        "    if not forecast_days:\n",
        "        return \"No forecast data available.\"\n",
        "\n",
        "    if time_period == 'today':\n",
        "        if len(forecast_days) >= 1:\n",
        "            day_data = forecast_days[0]['day']\n",
        "            time_desc = \"today\"\n",
        "        else:\n",
        "            return \"No data for today.\"\n",
        "    elif time_period == 'tomorrow':\n",
        "        if len(forecast_days) >= 2:\n",
        "            day_data = forecast_days[1]['day']\n",
        "            time_desc = \"tomorrow\"\n",
        "        else:\n",
        "            return \"No data for tomorrow.\"\n",
        "    elif time_period == '5-day':\n",
        "        response = f\"Here is the 5-day forecast for {location}:\\n\"\n",
        "        for day in forecast_days:\n",
        "            date = day['date']\n",
        "            avg_temp = day['day'].get('avgtemp_c', 'N/A')\n",
        "            rain_chance = day['day'].get('daily_chance_of_rain', 'N/A')\n",
        "            response += f\"{date}: Avg Temp: {avg_temp}°C, Rain: {rain_chance}%\\n\"\n",
        "        return response\n",
        "    else:\n",
        "        return \"Time period not recognized.\"\n",
        "\n",
        "    if attribute == 'temperature':\n",
        "        return f\"The average temperature in {location} {time_desc} is {day_data.get('avgtemp_c', 'N/A')}°C.\"\n",
        "    elif attribute == 'precipitation':\n",
        "        return f\"There is a {day_data.get('daily_chance_of_rain', 'N/A')}% chance of rain in {location} {time_desc}.\"\n",
        "    else:\n",
        "        return \"I couldn't identify the weather detail you're asking for.\"\n",
        "\n",
        "# Redefine main_menu function (assuming it's the entry point)\n",
        "# This is already defined, but redefined here to ensure it is available in this block\n",
        "def main_menu():\n",
        "    print(\"=== Welcome to Weather Advisor ===\")\n",
        "    last_location = None\n",
        "\n",
        "    while True:\n",
        "        print(\"\\nWeather Advisor Menu\")\n",
        "        print(\"Please select one of the following:\")\n",
        "        choice = pyip.inputMenu(\n",
        "            ['Ask a question', 'Show temperature chart', 'Show precipitation chart', 'Exit'],\n",
        "            numbered=True\n",
        "        )\n",
        "\n",
        "        if choice == 'Ask a question':\n",
        "            question = input(\"What would you like to know about the weather?\\n> \")\n",
        "            parsed = parse_weather_question(question)\n",
        "            data = get_weather_data(parsed['location'])\n",
        "            response = generate_weather_response(parsed, data)\n",
        "            print(\"\\n\" + response + \"\\n\")\n",
        "            last_location = parsed['location']\n",
        "\n",
        "        elif choice in ['Show temperature chart', 'Show precipitation chart']:\n",
        "            if last_location:\n",
        "                use_last = pyip.inputYesNo(f\"Use last location ({last_location})? (yes/no): \")\n",
        "                if use_last == 'yes':\n",
        "                    location = last_location\n",
        "                else:\n",
        "                    location = pyip.inputStr(\"Enter a location: \")\n",
        "                    last_location = location\n",
        "            else:\n",
        "                location = pyip.inputStr(\"Enter a location: \")\n",
        "                last_location = location\n",
        "\n",
        "            data = get_weather_data(location)\n",
        "            if data:\n",
        "                if choice == 'Show temperature chart':\n",
        "                    create_temperature_visualisation(data)\n",
        "                else:\n",
        "                    create_precipitation_visualisation(data)\n",
        "\n",
        "        elif choice == 'Exit':\n",
        "            print(\"Goodbye!\")\n",
        "            break\n",
        "\n",
        "if __name__ == \"__main__\":\n",
        "    main_menu()"
      ]
    },
    {
      "cell_type": "markdown",
      "id": "fde44479",
      "metadata": {
        "id": "fde44479"
      },
      "source": [
        "## 🧪 Testing and Examples"
      ]
    },
    {
      "cell_type": "code",
      "execution_count": null,
      "id": "4e573901",
      "metadata": {
        "id": "4e573901"
      },
      "outputs": [],
      "source": [
        "def run_tests():\n",
        "    print(\"🔍 Running tests...\\n\")\n",
        "    passed = 0\n",
        "    failed = 0\n",
        "\n",
        "    # Test 1: API call should return data for a known location\n",
        "    try:\n",
        "        test_location = \"London\"\n",
        "        print(f\"→ Test 1: Fetching weather data for {test_location}\")\n",
        "        data = get_weather_data(test_location)\n",
        "        assert data is not None, \"API returned None\"\n",
        "        assert 'location' in data, \"Missing 'location' key\"\n",
        "        assert data['location']['name'].lower() == test_location.lower(), \"Location mismatch\"\n",
        "        print(\"✅ Test 1 passed: API call works for known location.\\n\")\n",
        "        passed += 1\n",
        "    except AssertionError as e:\n",
        "        print(f\"❌ Test 1 failed: {e}\\n\")\n",
        "        failed += 1\n",
        "\n",
        "    # Test 2: NLP question parsing\n",
        "    try:\n",
        "        question = \"Will it rain tomorrow in Paris?\"\n",
        "        print(f\"→ Test 2: Parsing question: '{question}'\")\n",
        "        parsed = parse_weather_question(question)\n",
        "        assert parsed['location'] == \"Paris\", f\"Expected 'Paris', got '{parsed['location']}'\"\n",
        "        assert parsed['attribute'] == \"precipitation\", f\"Expected 'precipitation', got '{parsed['attribute']}'\"\n",
        "        assert parsed['time_period'] == \"tomorrow\", f\"Expected 'tomorrow', got '{parsed['time_period']}'\"\n",
        "        print(\"✅ Test 2 passed: NLP parsing works.\\n\")\n",
        "        passed += 1\n",
        "    except AssertionError as e:\n",
        "        print(f\"❌ Test 2 failed: {e}\\n\")\n",
        "        failed += 1\n",
        "\n",
        "    # Test 3: Response generation\n",
        "    try:\n",
        "        sample_question = \"What is the temperature in Tokyo tomorrow?\"\n",
        "        print(f\"→ Test 3: Generating response for: '{sample_question}'\")\n",
        "        parsed_sample = parse_weather_question(sample_question)\n",
        "        sample_data = get_weather_data(parsed_sample['location'])\n",
        "        response = generate_weather_response(parsed_sample, sample_data)\n",
        "        assert \"Tokyo\" in response, \"Missing location in response\"\n",
        "        assert \"°C\" in response, \"Temperature info missing in response\"\n",
        "        print(\"✅ Test 3 passed: Response generation works.\\n\")\n",
        "        passed += 1\n",
        "    except AssertionError as e:\n",
        "        print(f\"❌ Test 3 failed: {e}\\n\")\n",
        "        failed += 1\n"
      ]
    },
    {
      "cell_type": "markdown",
      "id": "d2885880",
      "metadata": {
        "id": "d2885880"
      },
      "source": [
        "## 🗂️ AI Prompting Log (Optional)\n",
        "Add markdown cells here summarising prompts used or link to AI conversations in the `ai-conversations/` folder."
      ]
    }
  ],
  "metadata": {
    "language_info": {
      "name": "python"
    },
    "colab": {
      "provenance": [],
      "include_colab_link": true
    },
    "kernelspec": {
      "name": "python3",
      "display_name": "Python 3"
    }
  },
  "nbformat": 4,
  "nbformat_minor": 5
}